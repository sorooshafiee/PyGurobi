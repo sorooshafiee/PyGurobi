{
 "cells": [
  {
   "cell_type": "markdown",
   "metadata": {},
   "source": [
    "# Model Formulation\n",
    "\n",
    "## Sets\n",
    "Let $T$ be a set of time periods (months), whre $t_0 \\in T$ is the first month and $t_e \\in T$ the last month.\n",
    "\n",
    "Let $P$ be a set of products and $M$ be a set of machines.\n",
    "\n",
    "## Parameters\n",
    "- For each product $p \\in P$ and each type of machine $m \\in M$, we are given the time $f_{p,m}$ (in hours) the product $p \\in P$ needs to be manufactured on the machine $m \\in M$.\n",
    "- For each month $t \\in T$ and each product $p \\in P$, we are given the upper limit on sales of $l_{t,p}$ for that product in that month. \n",
    "- For each product $p \\in P$, we are given the profit $k_p$.\n",
    "- For each month $t \\in T$ and each machione $m \\in M$, we are given the number of available machines $q_{t,m}$.\n",
    "- Each machine can work $g$ hours a month.\n",
    "- There can be $z$ products of each type stored in each month and storing cost $r$ per product per month occur.\n",
    "\n",
    "## Variables\n",
    "For each month $t \\in T$ and each product $p \\in P$, we introduce continuous non-negative variables $b_{t,p}, u_{t,p}, s_{t,p}$.\n",
    "- $b_{t,p}$ describes how much we produce of the product $p \\in P$ in the month $t \\in T$.\n",
    "- $u_{t,p}$ describes how much we sell of the product $p \\in P$ in the month $t \\in T$.\n",
    "- $s_{t,p}$ describes how much we store of the product $p \\in P$ in the month $t \\in T$.\n",
    "\n",
    "## Objective function\n",
    "The Objective is to maximize the profit of the company. It consists of the profit for each product minus cost for storing the unsold products. This can be stated as \n",
    "\n",
    "$ \\max \\sum_{t \\in T} \\sum_{p \\in P} (k_p u_{t,p} - r s_{t,p})$\n",
    "\n",
    "## Constrains\n",
    "The balance constraints ensure that the amount is in the storage in the last month and the amount that get manufactured equals the amount that is sold and held for each product in the current month. This makes sure that all products in the model are manufactured in some month. The initial storage is empty. \n",
    "\n",
    "$ s_{t-1,p} + b_{t,p} = u_{t,p} + s_{t,p} \\qquad \\forall t \\in T \\ t_0, \\forall p \\in P $\n",
    "\n",
    "$ b_{t_0,p} = u_{t_0,p} + s_{t_0,p} \\qquad \\qquad \\forall p \\in P $\n",
    "\n",
    "The endstore constrains force that at the end of the last month the storage contains the specified amount of each product (a full storage).\n",
    "\n",
    "$ s_{t_e,p} = z \\qquad \\forall p \\in P $\n",
    "\n",
    "The store capacity constraints restrict the amount of each product, which can be stored in each month. At most $z=50$ units of each product be stored in each month.\n",
    "\n",
    "$s_{t,p} \\leq z \\qquad \\forall p \\in P, \\forall t \\in T$\n",
    "\n",
    "The capacity constraints ensure that per month the time that all products needs on a certain kind of machine is lower or equal than the available hours for that machine is that month multiplied by the number of available machine in that month. Each product needs some machine hour on different machines. Each machine is down in one or more month due to maintenance, so the number of available machines varies per month. There can be multiplied machines per machine type.\n",
    "\n",
    "$ \\sum_{p \\in P} f_{p,m} b_{t,p} \\leq g q_{t,m} \\qquad \\forall t \\in T, \\forall m \\in M $"
   ]
  },
  {
   "cell_type": "markdown",
   "metadata": {},
   "source": [
    "# Python Implementation"
   ]
  },
  {
   "cell_type": "code",
   "execution_count": 1,
   "metadata": {
    "collapsed": true
   },
   "outputs": [],
   "source": [
    "from gurobipy import *"
   ]
  },
  {
   "cell_type": "code",
   "execution_count": 2,
   "metadata": {
    "collapsed": true
   },
   "outputs": [],
   "source": [
    "products = [\"Prod1\", \"Prod2\", \"Prod3\", \"Prod4\", \"Prod5\", \"Prod6\", \"Prod7\"]\n",
    "machines = [\"grinder\", \"vertDrill\", \"horiDrill\", \"borer\", \"planer\"]\n",
    "time_periods = [\"January\", \"February\", \"March\", \"April\", \"May\", \"June\"]"
   ]
  },
  {
   "cell_type": "code",
   "execution_count": 3,
   "metadata": {
    "collapsed": true
   },
   "outputs": [],
   "source": [
    "profit_contribution = [10, 6, 8, 4, 11, 9, 3]\n",
    "\n",
    "time_table = {\n",
    "    \"grinder\": {    \"Prod1\": 0.5, \"Prod2\": 0.7, \"Prod5\": 0.3,\n",
    "                    \"Prod6\": 0.2, \"Prod7\": 0.5 },\n",
    "    \"vertDrill\": {  \"Prod1\": 0.1, \"Prod2\": 0.2, \"Prod4\": 0.3,\n",
    "                    \"Prod6\": 0.6 },\n",
    "    \"horiDrill\": {  \"Prod1\": 0.2, \"Prod3\": 0.8, \"Prod7\": 0.6 },\n",
    "    \"borer\": {      \"Prod1\": 0.05,\"Prod2\": 0.03,\"Prod4\": 0.07,\n",
    "                    \"Prod5\": 0.1, \"Prod7\": 0.08 },\n",
    "    \"planer\": {     \"Prod3\": 0.01,\"Prod5\": 0.05,\"Prod7\": 0.05 }\n",
    "}"
   ]
  },
  {
   "cell_type": "code",
   "execution_count": 4,
   "metadata": {
    "collapsed": true
   },
   "outputs": [],
   "source": [
    "# number of machines down\n",
    "down = {(\"January\",\"grinder\"): 1, (\"February\", \"horiDrill\"): 2, (\"March\", \"borer\"): 1,\n",
    "        (\"April\", \"vertDrill\"): 1, (\"May\", \"grinder\"): 1, (\"May\", \"vertDrill\"): 1,\n",
    "        (\"June\", \"planer\"): 1, (\"June\", \"horiDrill\"): 1}\n",
    "\n",
    "qMachine = [4, 2, 3, 1, 1] # number of each machine available\n",
    "\n",
    "# market limitation of sells\n",
    "upper = [\n",
    "        [500, 1000,  300,  300,  800,  200,  100],\n",
    "        [600,  500,  200,    0,  400,  300,  150],\n",
    "        [300,  600,    0,    0,  500,  400,  100],\n",
    "        [200,  300,  400,  500,  200,    0,  100],\n",
    "        [  0,  100,  500,  100, 1000,  300,    0],\n",
    "        [500,  500,  100,  300, 1100,  500,   60]]\n",
    "\n",
    "storeCost = 0.5\n",
    "storeCapacity = 100\n",
    "endStock = 50\n",
    "hoursPerMonth = 2*8*24"
   ]
  },
  {
   "cell_type": "code",
   "execution_count": 5,
   "metadata": {
    "collapsed": true
   },
   "outputs": [],
   "source": [
    "model = Model('Factory Planning I')"
   ]
  },
  {
   "cell_type": "code",
   "execution_count": 6,
   "metadata": {
    "collapsed": true
   },
   "outputs": [],
   "source": [
    "# 1st step: define decision variables\n",
    "manu = {} # quantity manufactured\n",
    "held = {} # quantity stored\n",
    "sell = {} # quantity sold\n",
    "\n",
    "for index1, time_period in enumerate(time_periods):\n",
    "    for index2, product in enumerate(products):\n",
    "        manu[time_period, product] = model.addVar(vtype=GRB.CONTINUOUS,\n",
    "                                                  name=\"Manu_{}_{}\".format(product, time_period))\n",
    "        held[time_period, product] = model.addVar(vtype=GRB.CONTINUOUS, ub=storeCapacity,\n",
    "                                                  name=\"Held_{}_{}\".format(product, time_period))\n",
    "        sell[time_period, product] = model.addVar(vtype=GRB.CONTINUOUS, ub=upper[index1][index2],\n",
    "                                                  name=\"Sell_{}_{}\".format(product, time_period))"
   ]
  },
  {
   "cell_type": "code",
   "execution_count": 8,
   "metadata": {
    "collapsed": true
   },
   "outputs": [],
   "source": [
    "# 2nd step: integerate variables\n",
    "model.update()"
   ]
  },
  {
   "cell_type": "code",
   "execution_count": 9,
   "metadata": {
    "collapsed": true
   },
   "outputs": [],
   "source": [
    "# 3rd step: define objective function\n",
    "obj = quicksum(\n",
    "    profit_contribution[prod_index] * sell[time_period, product] -\n",
    "    storeCost * held[time_period, product]\n",
    "    for time_period in time_periods\n",
    "    for prod_index, product in enumerate(products)\n",
    ")\n",
    "model.setObjective(obj, GRB.MAXIMIZE)"
   ]
  },
  {
   "cell_type": "code",
   "execution_count": 10,
   "metadata": {
    "collapsed": true
   },
   "outputs": [],
   "source": [
    "# 4th step: define the constrains\n",
    "\n",
    "# Balancing constrains:\n",
    "for index, time_period in enumerate(time_periods):\n",
    "    for product in products:\n",
    "        if index == 0:\n",
    "            model.addConstr(manu[time_period, product] == sell[time_period, product] + held[time_period, product],\n",
    "                            \"Balance_{}_{}\".format(product, time_period))\n",
    "        else:\n",
    "            model.addConstr(held[time_periods[index-1], product] + manu[time_period, product] ==\n",
    "                            sell[time_period, product] + held[time_period, product],\n",
    "                            \"Balance_{}_{}\".format(product, time_period))\n",
    "# Endstore constrains:\n",
    "for product in products:\n",
    "    model.addConstr(held[time_periods[len(time_periods)-1], product] == endStock, \"Endbalance_{}\".format(product))\n",
    "\n",
    "# Capacity constrains:\n",
    "for time_index, time_period in enumerate(time_periods):\n",
    "    for mach_index, machine in enumerate(machines):\n",
    "        if (time_period, machine) in down:\n",
    "            model.addConstr(quicksum(time_table[machine][product] * manu[time_period, product]\n",
    "                            for product in time_table[machine])\n",
    "                            <= hoursPerMonth * (qMachine[mach_index] - down[time_period, machine]),\n",
    "                            \"Capacity_{}_{}\".format(machine, time_period))\n",
    "        else:\n",
    "            model.addConstr(quicksum(time_table[machine][product] * manu[time_period, product]\n",
    "                            for product in time_table[machine])\n",
    "                            <= hoursPerMonth * qMachine[mach_index],\n",
    "                            \"Capacity_{}_{}\".format(machine, time_period))"
   ]
  },
  {
   "cell_type": "code",
   "execution_count": 11,
   "metadata": {
    "collapsed": true
   },
   "outputs": [
    {
     "name": "stdout",
     "output_type": "stream",
     "text": [
      "Optimize a model with 79 rows, 126 columns and 288 nonzeros\n",
      "Coefficient statistics:\n",
      "  Matrix range    [1e-02, 1e+00]\n",
      "  Objective range [5e-01, 1e+01]\n",
      "  Bounds range    [6e+01, 1e+03]\n",
      "  RHS range       [5e+01, 2e+03]\n",
      "Presolve removed 74 rows and 110 columns\n",
      "Presolve time: 0.00s\n",
      "Presolved: 5 rows, 16 columns, 21 nonzeros\n",
      "\n",
      "Iteration    Objective       Primal Inf.    Dual Inf.      Time\n",
      "       0    9.4425000e+04   1.440000e+02   0.000000e+00      0s\n",
      "       2    9.3715179e+04   0.000000e+00   0.000000e+00      0s\n",
      "\n",
      "Solved in 2 iterations and 0.01 seconds\n",
      "Optimal objective  9.371517857e+04\n"
     ]
    }
   ],
   "source": [
    "# 5th step: start optimization\n",
    "model.optimize()"
   ]
  },
  {
   "cell_type": "code",
   "execution_count": 13,
   "metadata": {
    "collapsed": true
   },
   "outputs": [
    {
     "name": "stdout",
     "output_type": "stream",
     "text": [
      "Manu_Prod1_January 500.0\n",
      "Held_Prod1_January 0.0\n",
      "Sell_Prod1_January 500.0\n",
      "Manu_Prod2_January 888.5714285714287\n",
      "Held_Prod2_January 0.0\n",
      "Sell_Prod2_January 888.5714285714286\n",
      "Manu_Prod3_January 382.5\n",
      "Held_Prod3_January 82.5\n",
      "Sell_Prod3_January 300.0\n",
      "Manu_Prod4_January 300.0\n",
      "Held_Prod4_January 0.0\n",
      "Sell_Prod4_January 300.0\n",
      "Manu_Prod5_January 800.0\n",
      "Held_Prod5_January 0.0\n",
      "Sell_Prod5_January 800.0\n",
      "Manu_Prod6_January 200.0\n",
      "Held_Prod6_January 0.0\n",
      "Sell_Prod6_January 200.0\n",
      "Manu_Prod7_January 0.0\n",
      "Held_Prod7_January 0.0\n",
      "Sell_Prod7_January 0.0\n",
      "Manu_Prod1_February 700.0\n",
      "Held_Prod1_February 100.0\n",
      "Sell_Prod1_February 600.0\n",
      "Manu_Prod2_February 600.0\n",
      "Held_Prod2_February 100.0\n",
      "Sell_Prod2_February 500.0\n",
      "Manu_Prod3_February 117.5\n",
      "Held_Prod3_February 0.0\n",
      "Sell_Prod3_February 200.0\n",
      "Manu_Prod4_February 0.0\n",
      "Held_Prod4_February 0.0\n",
      "Sell_Prod4_February 0.0\n",
      "Manu_Prod5_February 500.0\n",
      "Held_Prod5_February 100.0\n",
      "Sell_Prod5_February 400.0\n",
      "Manu_Prod6_February 300.0\n",
      "Held_Prod6_February 0.0\n",
      "Sell_Prod6_February 300.0\n",
      "Manu_Prod7_February 250.0\n",
      "Held_Prod7_February 100.0\n",
      "Sell_Prod7_February 150.0\n",
      "Manu_Prod1_March 0.0\n",
      "Held_Prod1_March 0.0\n",
      "Sell_Prod1_March 100.0\n",
      "Manu_Prod2_March 0.0\n",
      "Held_Prod2_March 0.0\n",
      "Sell_Prod2_March 100.0\n",
      "Manu_Prod3_March 0.0\n",
      "Held_Prod3_March 0.0\n",
      "Sell_Prod3_March 0.0\n",
      "Manu_Prod4_March 0.0\n",
      "Held_Prod4_March 0.0\n",
      "Sell_Prod4_March 0.0\n",
      "Manu_Prod5_March 0.0\n",
      "Held_Prod5_March 0.0\n",
      "Sell_Prod5_March 100.0\n",
      "Manu_Prod6_March 400.0\n",
      "Held_Prod6_March 0.0\n",
      "Sell_Prod6_March 400.0\n",
      "Manu_Prod7_March 0.0\n",
      "Held_Prod7_March 0.0\n",
      "Sell_Prod7_March 100.0\n",
      "Manu_Prod1_April 200.0\n",
      "Held_Prod1_April 0.0\n",
      "Sell_Prod1_April 200.0\n",
      "Manu_Prod2_April 300.0\n",
      "Held_Prod2_April 0.0\n",
      "Sell_Prod2_April 300.0\n",
      "Manu_Prod3_April 400.0\n",
      "Held_Prod3_April 0.0\n",
      "Sell_Prod3_April 400.0\n",
      "Manu_Prod4_April 500.0\n",
      "Held_Prod4_April 0.0\n",
      "Sell_Prod4_April 500.0\n",
      "Manu_Prod5_April 200.0\n",
      "Held_Prod5_April 0.0\n",
      "Sell_Prod5_April 200.0\n",
      "Manu_Prod6_April 0.0\n",
      "Held_Prod6_April 0.0\n",
      "Sell_Prod6_April 0.0\n",
      "Manu_Prod7_April 100.0\n",
      "Held_Prod7_April 0.0\n",
      "Sell_Prod7_April 100.0\n",
      "Manu_Prod1_May 0.0\n",
      "Held_Prod1_May 0.0\n",
      "Sell_Prod1_May 0.0\n",
      "Manu_Prod2_May 100.0\n",
      "Held_Prod2_May 0.0\n",
      "Sell_Prod2_May 100.0\n",
      "Manu_Prod3_May 600.0\n",
      "Held_Prod3_May 100.0\n",
      "Sell_Prod3_May 500.0\n",
      "Manu_Prod4_May 100.0\n",
      "Held_Prod4_May 0.0\n",
      "Sell_Prod4_May 100.0\n",
      "Manu_Prod5_May 1100.0\n",
      "Held_Prod5_May 100.0\n",
      "Sell_Prod5_May 1000.0\n",
      "Manu_Prod6_May 300.0\n",
      "Held_Prod6_May 0.0\n",
      "Sell_Prod6_May 300.0\n",
      "Manu_Prod7_May 100.0\n",
      "Held_Prod7_May 100.0\n",
      "Sell_Prod7_May 0.0\n",
      "Manu_Prod1_June 550.0\n",
      "Held_Prod1_June 50.0\n",
      "Sell_Prod1_June 500.0\n",
      "Manu_Prod2_June 550.0\n",
      "Held_Prod2_June 50.0\n",
      "Sell_Prod2_June 500.0\n",
      "Manu_Prod3_June 0.0\n",
      "Held_Prod3_June 50.0\n",
      "Sell_Prod3_June 50.0\n",
      "Manu_Prod4_June 350.0\n",
      "Held_Prod4_June 50.0\n",
      "Sell_Prod4_June 300.0\n",
      "Manu_Prod5_June 0.0\n",
      "Held_Prod5_June 50.0\n",
      "Sell_Prod5_June 50.0\n",
      "Manu_Prod6_June 550.0\n",
      "Held_Prod6_June 50.0\n",
      "Sell_Prod6_June 500.0\n",
      "Manu_Prod7_June 0.0\n",
      "Held_Prod7_June 50.0\n",
      "Sell_Prod7_June 50.0\n"
     ]
    }
   ],
   "source": [
    "# 6th step: display solution (print the name of each variable and the solution value)\n",
    "for v in model.getVars():\n",
    "    print(v.getAttr(\"Varname\"), v.getAttr(\"X\"))"
   ]
  },
  {
   "cell_type": "code",
   "execution_count": 1,
   "metadata": {
    "collapsed": false
   },
   "outputs": [
    {
     "name": "stdout",
     "output_type": "stream",
     "text": [
      "C:\\Users\\shafieez\\.ipython\n"
     ]
    }
   ],
   "source": [
    "!Ipython locate"
   ]
  },
  {
   "cell_type": "code",
   "execution_count": null,
   "metadata": {
    "collapsed": true
   },
   "outputs": [],
   "source": []
  }
 ],
 "metadata": {
  "kernelspec": {
   "display_name": "Python 3",
   "language": "python",
   "name": "python3"
  },
  "language_info": {
   "codemirror_mode": {
    "name": "ipython",
    "version": 3
   },
   "file_extension": ".py",
   "mimetype": "text/x-python",
   "name": "python",
   "nbconvert_exporter": "python",
   "pygments_lexer": "ipython3",
   "version": "3.5.2"
  }
 },
 "nbformat": 4,
 "nbformat_minor": 1
}
